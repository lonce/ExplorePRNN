{
 "cells": [
  {
   "cell_type": "markdown",
   "metadata": {},
   "source": [
    "### Lorenz equation generates conditioning parameters just for fun"
   ]
  },
  {
   "cell_type": "code",
   "execution_count": null,
   "metadata": {},
   "outputs": [],
   "source": [
    "# Set parameter file and model to load\n",
    "from utils.myUtils import mostRecent \n",
    "\n",
    "# chose an existing pickledParamFile and run loadModelForEvaluation\n",
    "pickledParamFile = mostRecent(\"demoModel/*modelParams.pkl\")\n",
    "#pickledParamFile = mostRecent(\"/home/lonce/ZCODE/PYTORCH/RNNControl/model/*modelParams.pkl\")\n",
    "\n",
    "# choose saved model to run (defaults to the last saved if loadmodelfile is undefined or None)\n",
    "# Note: looks in same directory as pickledParamFile\n",
    "loadModelFileName=None\n",
    "#loadModelFileName='2018-11-23_09-37-53_model_epoch1_step90.pth'"
   ]
  },
  {
   "cell_type": "code",
   "execution_count": null,
   "metadata": {},
   "outputs": [],
   "source": [
    "# run notebook to load analysis/synthesis code\n",
    "%run loadModelForEvaluation.ipynb\n",
    "\n",
    "if 'sample_rate' not in params :   #older versions didn't save sample_rate\n",
    "    params['sample_rate']=16000"
   ]
  },
  {
   "cell_type": "markdown",
   "metadata": {},
   "source": [
    "### Priming signal"
   ]
  },
  {
   "cell_type": "code",
   "execution_count": null,
   "metadata": {},
   "outputs": [],
   "source": [
    "# Make noisy nuetral Priming signal \n",
    "myp=np.zeros([1,seqLen,len(params['props'])+1])\n",
    "# !! PRIMING DOES MATTER - has to be a certain level of noise\n",
    "myp[0,:,0]=.3*np.random.ranf([seqLen])-.15 #signal\n",
    "myp[0,:,1]= .45+.1*np.random.ranf([seqLen])     #instrument\n",
    "myp[0,:,2]= .5*np.random.ranf([seqLen])    #pressure1\n",
    "#myp[0,:,3]=1-myp[0,:,2]    #pressure2\n",
    "myp[0,:,3]= np.random.ranf([seqLen])    #pitch\n",
    "myprimer=torch.tensor(myp, dtype=torch.float)"
   ]
  },
  {
   "cell_type": "markdown",
   "metadata": {},
   "source": [
    "### <font color='brown'>Generate \"chaotic\" trajectories in instrument, volume, and pitch using the Lorenz equation</font>"
   ]
  },
  {
   "cell_type": "code",
   "execution_count": null,
   "metadata": {},
   "outputs": [],
   "source": [
    "import numpy as np\n",
    "\n",
    "from matplotlib import pyplot as plt\n",
    "from mpl_toolkits.mplot3d import Axes3D\n",
    "\n",
    "from utils.Lorenz import makeLorenzTrajectory"
   ]
  },
  {
   "cell_type": "code",
   "execution_count": null,
   "metadata": {},
   "outputs": [],
   "source": [
    "# Compute a 3D signal to use for parameter input to generation\n",
    "\n",
    "genlen=4*16000    #number of samples\n",
    "#the first arg is a scale param - how fast (and far) you step through the dynamical system\n",
    "lorenz = makeLorenzTrajectory(40, genlen)\n",
    "\n",
    "#Now lets look at them to see if we like 'em'\n",
    "samplenums=range(genlen)\n",
    "\n",
    "if True :   #$ plot 3D trajectory\n",
    "    fig = plt.figure()\n",
    "    ax = fig.gca(projection='3d')\n",
    "    ax.plot(lorenz[0], lorenz[1], lorenz[2], label='parametric curve')\n",
    "    ax.legend()\n",
    "    plt.show()\n",
    "    \n",
    "if True:\n",
    "    f, axarr = plt.subplots(3, sharex=True, sharey=True)#, figsize=(30,30))\n",
    "    props=['inst', 'amp', 'pitch']\n",
    "    for i in range(3) :\n",
    "        axarr[i].plot(samplenums, lorenz[i])\n",
    "        axarr.flat[i].set(xlabel='samples', ylabel=props[i])"
   ]
  },
  {
   "cell_type": "code",
   "execution_count": null,
   "metadata": {},
   "outputs": [],
   "source": [
    "#Generate signal using parameter trajectories computed in previous cell\n",
    "\n",
    "from IPython.display import Audio, display\n",
    "\n",
    "def psweep(snum) : \n",
    "    i=lorenz[0][snum]\n",
    "    v=1-lorenz[1][snum]\n",
    "    p=lorenz[2][snum]\n",
    "    return [i,v,p] \n",
    "\n",
    "y =generate(rnn, genlen, primer=None, paramvect=psweep, returnHiddenSequence=False)\n",
    "display(Audio(y, rate=sr, autoplay=True))"
   ]
  },
  {
   "cell_type": "code",
   "execution_count": null,
   "metadata": {},
   "outputs": [],
   "source": []
  }
 ],
 "metadata": {
  "kernelspec": {
   "display_name": "snn",
   "language": "python",
   "name": "snn"
  },
  "language_info": {
   "codemirror_mode": {
    "name": "ipython",
    "version": 3
   },
   "file_extension": ".py",
   "mimetype": "text/x-python",
   "name": "python",
   "nbconvert_exporter": "python",
   "pygments_lexer": "ipython3",
   "version": "3.6.6"
  }
 },
 "nbformat": 4,
 "nbformat_minor": 2
}
