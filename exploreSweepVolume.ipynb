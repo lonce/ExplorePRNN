{
 "cells": [
  {
   "cell_type": "markdown",
   "metadata": {},
   "source": [
    "### Sweep Volume, show spectrograms"
   ]
  },
  {
   "cell_type": "code",
   "execution_count": null,
   "metadata": {},
   "outputs": [],
   "source": [
    "# Set parameter file and model to load\n",
    "from utils.myUtils import mostRecent \n",
    "\n",
    "# chose an existing pickledParamFile and run loadModelForEvaluation\n",
    "pickledParamFile = mostRecent(\"demoModel/*modelParams.pkl\")\n",
    "#pickledParamFile = mostRecent(\"/home/lonce/ZCODE/PYTORCH/RNNControl/model/*modelParams.pkl\")\n",
    "\n",
    "# choose saved model to run (defaults to the last saved if loadmodelfile is undefined or None)\n",
    "# Note: looks in same directory as pickledParamFile\n",
    "loadModelFileName=None\n",
    "#loadModelFileName='2018-11-23_09-37-53_model_epoch1_step90.pth'"
   ]
  },
  {
   "cell_type": "code",
   "execution_count": null,
   "metadata": {},
   "outputs": [],
   "source": [
    "# run notebook to load analysis/synthesis code\n",
    "%run loadModelForEvaluation.ipynb\n",
    "\n",
    "if 'sample_rate' not in params :   #older versions didn't save sample_rate\n",
    "    params['sample_rate']=16000"
   ]
  },
  {
   "cell_type": "markdown",
   "metadata": {},
   "source": [
    "### Priming signal"
   ]
  },
  {
   "cell_type": "code",
   "execution_count": null,
   "metadata": {},
   "outputs": [],
   "source": [
    "# Make noisy nuetral Priming signal \n",
    "myp=np.zeros([1,seqLen,len(params['props'])+1])\n",
    "# !! PRIMING DOES MATTER - has to be a certain level of noise\n",
    "myp[0,:,0]=.3*np.random.ranf([seqLen])-.15 #signal\n",
    "myp[0,:,1]= .45+.1*np.random.ranf([seqLen])     #instrument\n",
    "myp[0,:,2]= .5*np.random.ranf([seqLen])    #pressure1\n",
    "#myp[0,:,3]=1-myp[0,:,2]    #pressure2\n",
    "myp[0,:,3]= np.random.ranf([seqLen])    #pitch\n",
    "myprimer=torch.tensor(myp, dtype=torch.float)"
   ]
  },
  {
   "cell_type": "markdown",
   "metadata": {},
   "source": [
    "### Volume sweep and visualize"
   ]
  },
  {
   "cell_type": "code",
   "execution_count": null,
   "metadata": {},
   "outputs": [],
   "source": [
    "from IPython.display import Audio, display\n",
    "import librosa.display\n",
    "\n",
    "genlen= int(3*params['sample_rate'])\n",
    "relPNum=7\n",
    "iNum=1\n",
    "\n",
    "def fsweep(snum) : \n",
    "    t=snum/genlen #t goes from 0 to 1 over the signal duration \n",
    "    v= .05 + 1*(.5-np.abs(.5-t))\n",
    "    p=midi.param2norm(params['lowNote'] + relPNum)\n",
    "    i=iNum\n",
    "    return [i,v,p]   \n",
    "\n",
    "#result=evaluate(genlen, fsweep, chooseTemperature, primeWith=k_primeSignal) #choose a middle value of the param for evaluation\n",
    "#y=result[k_primeLen:, 0]\n",
    "\n",
    "y, hdn=generate(rnn, genlen, primer=myprimer, paramvect=fsweep, returnHiddenSequence=True)\n",
    "\n",
    "y=y[seqLen:]\n",
    "hdn=hdn[seqLen:]\n",
    "\n",
    "sr=params['sample_rate']\n",
    "plt.figure(figsize=(24, 16))\n",
    "D = librosa.amplitude_to_db(librosa.stft(y, hop_length=128), ref=np.max)\n",
    "plt.subplot(4, 2, 1)\n",
    "librosa.display.specshow(D, y_axis='log', sr=sr)\n",
    "plt.colorbar(format='%+2.0f dB')\n",
    "plt.title('log-frequency power spectrogram, i= ' + str(iNum) + \", p= \" + str(relPNum))\n",
    "\n",
    "\n",
    "#save wave file\n",
    "outfilename=k_rootoutname+\"/volumeSweep\" + \"_iNum.\" + str(iNum) + \"_pNum.\" + str(relPNum) \n",
    "librosa.output.write_wav(outfilename + \".wav\", y, params['sample_rate'])\n",
    "plt.savefig(outfilename +\".png\")\n",
    "\n",
    "# Sonify signal from last call to generate()\n",
    "display(Audio(y, rate=params['sample_rate'], autoplay=False))"
   ]
  },
  {
   "cell_type": "code",
   "execution_count": null,
   "metadata": {},
   "outputs": [],
   "source": [
    "# Activation over time for signal from last call to generate()\n",
    "\n",
    "import matplotlib as mpl\n",
    "from ipywidgets import interact,interactive\n",
    "from ipywidgets import FloatSlider, IntSlider\n",
    "from IPython.display import Audio\n",
    "\n",
    "\n",
    "#Separate layers for visualization \n",
    "#want each layers[n] to be 40 rows of length timesteps=400 (40 x 400)\n",
    "layers = [np.transpose([x[n] for x in hdn]) for n in range(0,4) ]\n",
    "\n",
    "t=list(range(0,len(hdn)))\n",
    "elmts=[list(range(0,len(layers[n][0]))) for n in range(0,4)]\n",
    "\n",
    "print(\"Layer[0] has {} rows of length {}\".format(len(layers[0]), len(layers[0][0])))\n",
    "\n",
    "#*************************\n",
    "\n",
    "def widgetfunc(layer,snum,scale):\n",
    "\n",
    "    global t\n",
    "    global layers\n",
    "    \n",
    "    print(\"length of time array = {}\".format(len(t)))\n",
    "    \n",
    "    endSnum=int(min(snum+40*math.pow(2,scale) , len(t)-1))\n",
    "    print(\"endSnum is {}\".format(endSnum))\n",
    "    \n",
    "    numxticks=10\n",
    "    xtick_spacing=max(int((endSnum-snum)/numxticks), 1)\n",
    "    xlabels=range(snum, endSnum, xtick_spacing)\n",
    "    \n",
    "    aspectRatio=(endSnum-snum)/40\n",
    "\n",
    "    \n",
    "    numplots=40\n",
    "    f, axarr = plt.subplots(numplots, sharex=True, sharey=True, figsize=(30,30))\n",
    "    for i in range(numplots) :\n",
    "        axarr[i].plot(t[snum:endSnum], layers[layer][i,snum:endSnum])\n",
    "        axarr.flat[i].set(xlabel='samples', ylabel=i)\n",
    "        axarr[i].set_yticks([])\n",
    "\n",
    "    \n",
    "    axarr[0].set_title('Activations for layer {}'.format(layer))\n",
    "\n",
    "    # Fine-tune figure; make subplots close to each other and hide x ticks for\n",
    "    # all but bottom plot.\n",
    "    f.subplots_adjust(hspace=0)\n",
    "    plt.setp([a.get_xticklabels() for a in f.axes[:-1]], visible=False)\n",
    "    \n",
    "\n",
    "    \n",
    "layerSlider=IntSlider(min=0, max=3, step=1, value=0, continuous_update=False, description='layer')\n",
    "snumSlider=IntSlider(min=0, max=len(t), step=1, value=0,  continuous_update=False, description='sampleNumber')\n",
    "scaleSlider=FloatSlider(min=0, max=12, step=.1, value=12,  continuous_update=False, description='scale')\n",
    "\n",
    "w = interactive(widgetfunc, layer=layerSlider, snum=snumSlider, scale=scaleSlider)\n",
    "display(w)"
   ]
  },
  {
   "cell_type": "markdown",
   "metadata": {},
   "source": [
    "### Sonify individual activations "
   ]
  },
  {
   "cell_type": "code",
   "execution_count": null,
   "metadata": {},
   "outputs": [],
   "source": [
    "# Sonify activation of individual cells over time for instrument visualized above\n",
    "\n",
    "def widgetfunc(layer,unit,snum,scale):\n",
    "    global t\n",
    "    global layers\n",
    "    \n",
    "    endSnum=int(min(snum+40*math.pow(2,scale) , len(t)-1))\n",
    "\n",
    "    display(Audio(layers[layer][unit,snum:endSnum], rate=sr, autoplay=True))\n",
    "    \n",
    "layerSlider=IntSlider(min=0, max=3, step=1, value=0, continuous_update=False, description='layer')\n",
    "unitSlider=IntSlider(min=0, max=40, step=1, value=0, continuous_update=False, description='unit')\n",
    "snumSlider=IntSlider(min=0, max=len(t), step=1, value=0,  continuous_update=False, description='sampleNumber')\n",
    "scaleSlider=FloatSlider(min=0, max=12, step=.1, value=12,  continuous_update=False, description='scale')\n",
    "\n",
    "w = interactive(widgetfunc, layer=layerSlider, unit=unitSlider, snum=snumSlider, scale=scaleSlider)\n",
    "display(w)\n"
   ]
  }
 ],
 "metadata": {
  "kernelspec": {
   "display_name": "snn",
   "language": "python",
   "name": "snn"
  },
  "language_info": {
   "codemirror_mode": {
    "name": "ipython",
    "version": 3
   },
   "file_extension": ".py",
   "mimetype": "text/x-python",
   "name": "python",
   "nbconvert_exporter": "python",
   "pygments_lexer": "ipython3",
   "version": "3.6.6"
  }
 },
 "nbformat": 4,
 "nbformat_minor": 2
}
