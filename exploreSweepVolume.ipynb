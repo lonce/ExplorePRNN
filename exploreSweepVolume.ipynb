{
 "cells": [
  {
   "cell_type": "markdown",
   "metadata": {},
   "source": [
    "### Sweep Volume, show spectrograms"
   ]
  },
  {
   "cell_type": "code",
   "execution_count": 1,
   "metadata": {},
   "outputs": [],
   "source": [
    "# Set parameter file and model to load\n",
    "from utils.myUtils import mostRecent \n",
    "\n",
    "# chose an existing pickledParamFile and run loadModelForEvaluation\n",
    "pickledParamFile = mostRecent(\"../RNNControl/model/*modelParams.pkl\")\n",
    "#pickledParamFile = mostRecent(\"/home/lonce/ZCODE/PYTORCH/RNNControl/model/*modelParams.pkl\")\n",
    "#pickledParamFile = '/home/lonce/ZCODE/PYTORCH/HUZ/RNNControl/model.WorkingTransients/modelParams.pkl'\n",
    "\n",
    "# choose saved model to run (defaults to the last saved if loadmodelfile is undefined or None)\n",
    "# Note: looks in same directory as pickledParamFile\n",
    "loadModelFileName=None\n",
    "#loadModelFileName='2018-11-23_09-37-53_model_epoch1_step90.pth'\n",
    "#loadModelFileName='2018-10-31_16-47-25_model_epoch1_step4000.pth'"
   ]
  },
  {
   "cell_type": "code",
   "execution_count": 2,
   "metadata": {},
   "outputs": [
    {
     "name": "stdout",
     "output_type": "stream",
     "text": [
      "python version 3.6.6\n",
      "torch version 0.4.1\n",
      "will read params from ../RNNControl/model/2019-06-20_18-39-58_modelParams.pkl\n",
      "modelDir is ../RNNControl/model\n",
      "\n",
      " Saved Parameters:\n",
      "\n",
      "{'batch_size': 256,\n",
      " 'datadir': '/home/lonce/ZCODE/PYTORCH/data/faustData/dataset',\n",
      " 'hiNote': 80,\n",
      " 'hiddenSize': 40,\n",
      " 'lowNote': 55,\n",
      " 'lr': 0.005,\n",
      " 'max_steps': 18000,\n",
      " 'nLayers': 4,\n",
      " 'noise': 0,\n",
      " 'num_epochs': 1,\n",
      " 'paramdir': '/home/lonce/ZCODE/PYTORCH/data/faustData/dataparams',\n",
      " 'props': ['instID', 'pressure', 'midiPitch', 'tongue'],\n",
      " 'runTimeStamp': '2019-06-20_18-39-58',\n",
      " 'sample_rate': 16000,\n",
      " 'savedModel': '2019-06-20_18-39-58_model_epoch1_step18000.pth',\n",
      " 'savedSteps': 18000,\n",
      " 'savemodel': True,\n",
      " 'savemodel_interval': 500,\n",
      " 'savemodeldir': '/home/lonce/ZCODE/PYTORCH/RNNControl/model',\n",
      " 'seqLen': 256,\n",
      " 'stride': 1}\n",
      "setting loadModelFile to ../RNNControl/model/2019-06-20_18-39-58_model_epoch1_step18000.pth\n",
      "**************************************************************************************************.\n",
      "Will load model: ../RNNControl/model/2019-06-20_18-39-58_model_epoch1_step18000.pth\n"
     ]
    }
   ],
   "source": [
    "# run notebook to load analysis/synthesis code\n",
    "%run loadModelForEvaluation.ipynb\n",
    "\n",
    "if 'sample_rate' not in params :   #older versions didn't save sample_rate\n",
    "    params['sample_rate']=16000"
   ]
  },
  {
   "cell_type": "markdown",
   "metadata": {},
   "source": [
    "### Priming signal"
   ]
  },
  {
   "cell_type": "code",
   "execution_count": 3,
   "metadata": {},
   "outputs": [],
   "source": [
    "# Make noisy nuetral Priming signal \n",
    "myp=np.zeros([1,seqLen,len(params['props'])+1])\n",
    "# !! PRIMING DOES MATTER - has to be a certain level of noise\n",
    "myp[0,:,0]=.3*np.random.ranf([seqLen])-.15 #signal\n",
    "myp[0,:,1]= .45+.1*np.random.ranf([seqLen])     #instrument\n",
    "myp[0,:,2]= .5*np.random.ranf([seqLen])    #pressure1\n",
    "#myp[0,:,3]=1-myp[0,:,2]    #pressure2\n",
    "myp[0,:,3]= np.random.ranf([seqLen])    #pitch\n",
    "myp[0,:,4]= np.random.ranf([seqLen])    #tongue\n",
    "myprimer=torch.tensor(myp, dtype=torch.float)"
   ]
  },
  {
   "cell_type": "markdown",
   "metadata": {},
   "source": [
    "### Volume sweep and visualize"
   ]
  },
  {
   "cell_type": "code",
   "execution_count": 4,
   "metadata": {},
   "outputs": [
    {
     "name": "stderr",
     "output_type": "stream",
     "text": [
      "Exception ignored in: <bound method _DataLoaderIter.__del__ of <torch.utils.data.dataloader._DataLoaderIter object at 0x7f26110dbfd0>>\n",
      "Traceback (most recent call last):\n",
      "  File \"/home/lonce/anaconda3/envs/snn/lib/python3.6/site-packages/torch/utils/data/dataloader.py\", line 399, in __del__\n",
      "    self._shutdown_workers()\n",
      "  File \"/home/lonce/anaconda3/envs/snn/lib/python3.6/site-packages/torch/utils/data/dataloader.py\", line 378, in _shutdown_workers\n",
      "    self.worker_result_queue.get()\n",
      "  File \"/home/lonce/anaconda3/envs/snn/lib/python3.6/multiprocessing/queues.py\", line 337, in get\n",
      "    return _ForkingPickler.loads(res)\n",
      "  File \"/home/lonce/anaconda3/envs/snn/lib/python3.6/site-packages/torch/multiprocessing/reductions.py\", line 151, in rebuild_storage_fd\n",
      "    fd = df.detach()\n",
      "  File \"/home/lonce/anaconda3/envs/snn/lib/python3.6/multiprocessing/resource_sharer.py\", line 57, in detach\n",
      "    with _resource_sharer.get_connection(self._id) as conn:\n",
      "  File \"/home/lonce/anaconda3/envs/snn/lib/python3.6/multiprocessing/resource_sharer.py\", line 87, in get_connection\n",
      "    c = Client(address, authkey=process.current_process().authkey)\n",
      "  File \"/home/lonce/anaconda3/envs/snn/lib/python3.6/multiprocessing/connection.py\", line 494, in Client\n",
      "    deliver_challenge(c, authkey)\n",
      "  File \"/home/lonce/anaconda3/envs/snn/lib/python3.6/multiprocessing/connection.py\", line 722, in deliver_challenge\n",
      "    response = connection.recv_bytes(256)        # reject large message\n",
      "  File \"/home/lonce/anaconda3/envs/snn/lib/python3.6/multiprocessing/connection.py\", line 216, in recv_bytes\n",
      "    buf = self._recv_bytes(maxlength)\n",
      "  File \"/home/lonce/anaconda3/envs/snn/lib/python3.6/multiprocessing/connection.py\", line 407, in _recv_bytes\n",
      "    buf = self._recv(4)\n",
      "  File \"/home/lonce/anaconda3/envs/snn/lib/python3.6/multiprocessing/connection.py\", line 379, in _recv\n",
      "    chunk = read(handle, remaining)\n",
      "ConnectionResetError: [Errno 104] Connection reset by peer\n"
     ]
    },
    {
     "ename": "RuntimeError",
     "evalue": "The expanded size of the tensor (4) must match the existing size (3) at non-singleton dimension 1",
     "output_type": "error",
     "traceback": [
      "\u001b[0;31m---------------------------------------------------------------------------\u001b[0m",
      "\u001b[0;31mRuntimeError\u001b[0m                              Traceback (most recent call last)",
      "\u001b[0;32m<ipython-input-4-14aed03545ec>\u001b[0m in \u001b[0;36m<module>\u001b[0;34m\u001b[0m\n\u001b[1;32m     16\u001b[0m \u001b[0;31m#y=result[k_primeLen:, 0]\u001b[0m\u001b[0;34m\u001b[0m\u001b[0;34m\u001b[0m\u001b[0m\n\u001b[1;32m     17\u001b[0m \u001b[0;34m\u001b[0m\u001b[0m\n\u001b[0;32m---> 18\u001b[0;31m \u001b[0my\u001b[0m\u001b[0;34m,\u001b[0m \u001b[0mhdn\u001b[0m\u001b[0;34m=\u001b[0m\u001b[0mgenerate\u001b[0m\u001b[0;34m(\u001b[0m\u001b[0mrnn\u001b[0m\u001b[0;34m,\u001b[0m \u001b[0mgenlen\u001b[0m\u001b[0;34m,\u001b[0m \u001b[0mprimer\u001b[0m\u001b[0;34m=\u001b[0m\u001b[0mmyprimer\u001b[0m\u001b[0;34m,\u001b[0m \u001b[0mparamvect\u001b[0m\u001b[0;34m=\u001b[0m\u001b[0mfsweep\u001b[0m\u001b[0;34m,\u001b[0m \u001b[0mreturnHiddenSequence\u001b[0m\u001b[0;34m=\u001b[0m\u001b[0;32mTrue\u001b[0m\u001b[0;34m)\u001b[0m\u001b[0;34m\u001b[0m\u001b[0m\n\u001b[0m\u001b[1;32m     19\u001b[0m \u001b[0;34m\u001b[0m\u001b[0m\n\u001b[1;32m     20\u001b[0m \u001b[0my\u001b[0m\u001b[0;34m=\u001b[0m\u001b[0my\u001b[0m\u001b[0;34m[\u001b[0m\u001b[0mseqLen\u001b[0m\u001b[0;34m:\u001b[0m\u001b[0;34m]\u001b[0m\u001b[0;34m\u001b[0m\u001b[0m\n",
      "\u001b[0;32m<ipython-input-2-8951ffd773b6>\u001b[0m in \u001b[0;36mgenerate\u001b[0;34m(model, max_length, primer, paramvect, returnHiddenSequence)\u001b[0m\n\u001b[1;32m     50\u001b[0m             \u001b[0;31m#print(\"shape\",inp.shape)\u001b[0m\u001b[0;34m\u001b[0m\u001b[0;34m\u001b[0m\u001b[0m\n\u001b[1;32m     51\u001b[0m             \u001b[0;32mif\u001b[0m \u001b[0mparamvect\u001b[0m \u001b[0;32mis\u001b[0m \u001b[0;32mnot\u001b[0m \u001b[0;32mNone\u001b[0m\u001b[0;34m:\u001b[0m\u001b[0;34m\u001b[0m\u001b[0m\n\u001b[0;32m---> 52\u001b[0;31m                 \u001b[0minp\u001b[0m\u001b[0;34m[\u001b[0m\u001b[0;34m:\u001b[0m\u001b[0;34m,\u001b[0m\u001b[0;36m1\u001b[0m\u001b[0;34m:\u001b[0m\u001b[0;34m]\u001b[0m \u001b[0;34m=\u001b[0m \u001b[0mtorch\u001b[0m\u001b[0;34m.\u001b[0m\u001b[0mtensor\u001b[0m\u001b[0;34m(\u001b[0m\u001b[0mparamvect\u001b[0m\u001b[0;34m(\u001b[0m\u001b[0mi\u001b[0m\u001b[0;34m)\u001b[0m\u001b[0;34m)\u001b[0m\u001b[0;34m\u001b[0m\u001b[0m\n\u001b[0m\u001b[1;32m     53\u001b[0m                 \u001b[0;31m#print(\"input2\",inp)\u001b[0m\u001b[0;34m\u001b[0m\u001b[0;34m\u001b[0m\u001b[0m\n\u001b[1;32m     54\u001b[0m \u001b[0;34m\u001b[0m\u001b[0m\n",
      "\u001b[0;31mRuntimeError\u001b[0m: The expanded size of the tensor (4) must match the existing size (3) at non-singleton dimension 1"
     ]
    }
   ],
   "source": [
    "from IPython.display import Audio, display\n",
    "import librosa.display\n",
    "\n",
    "genlen= int(3*params['sample_rate'])\n",
    "relPNum=7\n",
    "iNum=0\n",
    "\n",
    "def fsweep(snum) : \n",
    "    t=snum/genlen #t goes from 0 to 1 over the signal duration \n",
    "    v= .05 + 1*(.5-np.abs(.5-t))\n",
    "    p=midi.param2norm(params['lowNote'] + relPNum)\n",
    "    i=iNum\n",
    "    b=1\n",
    "    return np.array([i,v,p,b])   \n",
    "\n",
    "#result=evaluate(genlen, fsweep, chooseTemperature, primeWith=k_primeSignal) #choose a middle value of the param for evaluation\n",
    "#y=result[k_primeLen:, 0]\n",
    "\n",
    "y, hdn=generate(rnn, genlen, primer=myprimer, paramvect=fsweep, returnHiddenSequence=True)\n",
    "\n",
    "y=y[seqLen:]\n",
    "hdn=hdn[seqLen:]\n",
    "\n",
    "sr=params['sample_rate']\n",
    "plt.figure(figsize=(24, 16))\n",
    "D = librosa.amplitude_to_db(librosa.stft(y, hop_length=128), ref=np.max)\n",
    "plt.subplot(4, 2, 1)\n",
    "librosa.display.specshow(D, y_axis='log', sr=sr)\n",
    "plt.colorbar(format='%+2.0f dB')\n",
    "plt.title('log-frequency power spectrogram, i= ' + str(iNum) + \", p= \" + str(relPNum))\n",
    "\n",
    "\n",
    "#save wave file\n",
    "outfilename=k_rootoutname+\"/volumeSweep\" + \"_iNum.\" + str(iNum) + \"_pNum.\" + str(relPNum) \n",
    "librosa.output.write_wav(outfilename + \".wav\", y, params['sample_rate'])\n",
    "plt.savefig(outfilename +\".png\")\n",
    "\n",
    "# Sonify signal from last call to generate()\n",
    "display(Audio(y, rate=params['sample_rate'], autoplay=False))"
   ]
  },
  {
   "cell_type": "code",
   "execution_count": 13,
   "metadata": {},
   "outputs": [
    {
     "name": "stdout",
     "output_type": "stream",
     "text": [
      "signal length is 47744\n",
      "p length is 1\n"
     ]
    },
    {
     "data": {
      "image/png": "[encoded data removed]",
      "text/plain": [
       "<matplotlib.figure.Figure at 0x7f4d74b31fd0>"
      ]
     },
     "metadata": {
      "needs_background": "light"
     },
     "output_type": "display_data"
    }
   ],
   "source": [
    "#**************************\n",
    "p = [fsweep(t) for t in range(genlen)]\n",
    "q=[x[1] for x in p]\n",
    "\n",
    "print(\"signal length is {}\".format(len(y[seqLen:])))\n",
    "print(\"p length is {}\".format(len(p[1:2])))\n",
    "\n",
    "plt.figure(figsize=(20,3)) \n",
    "plt.plot(np.arange(len(y[seqLen:])), y[seqLen:]) #just print one example from the batch\n",
    "#plt.plot(np.arange(len(signal[256:])), p[:,2]) #just print one example from the batch\n",
    "plt.plot(np.arange(len(q)), q) #just print one example from the batch\n",
    "plt.grid()\n",
    "plt.show()\n"
   ]
  },
  {
   "cell_type": "code",
   "execution_count": 14,
   "metadata": {},
   "outputs": [
    {
     "name": "stdout",
     "output_type": "stream",
     "text": [
      "Layer[0] has 40 rows of length 47745\n"
     ]
    },
    {
     "data": {
      "application/vnd.jupyter.widget-view+json": {
       "model_id": "3067892ae4414988a45fb11cdb746376",
       "version_major": 2,
       "version_minor": 0
      },
      "text/plain": [
       "interactive(children=(IntSlider(value=0, continuous_update=False, description='layer', max=3), IntSlider(value…"
      ]
     },
     "metadata": {},
     "output_type": "display_data"
    }
   ],
   "source": [
    "# Activation over time for signal from last call to generate()\n",
    "\n",
    "import matplotlib as mpl\n",
    "from ipywidgets import interact,interactive\n",
    "from ipywidgets import FloatSlider, IntSlider\n",
    "from IPython.display import Audio\n",
    "\n",
    "\n",
    "#Separate layers for visualization \n",
    "#want each layers[n] to be 40 rows of length timesteps=400 (40 x 400)\n",
    "layers = [np.transpose([x[n] for x in hdn]) for n in range(0,params['nLayers']) ]\n",
    "\n",
    "t=list(range(0,len(hdn)))\n",
    "elmts=[list(range(0,len(layers[n][0]))) for n in range(0,params['nLayers'])]\n",
    "\n",
    "print(\"Layer[0] has {} rows of length {}\".format(len(layers[0]), len(layers[0][0])))\n",
    "\n",
    "#*************************\n",
    "\n",
    "def widgetfunc(layer,snum,scale):\n",
    "\n",
    "    global t\n",
    "    global layers\n",
    "    \n",
    "    print(\"length of time array = {}\".format(len(t)))\n",
    "    \n",
    "    endSnum=int(min(snum+40*math.pow(2,scale) , len(t)-1))\n",
    "    print(\"endSnum is {}\".format(endSnum))\n",
    "    \n",
    "    numxticks=10\n",
    "    xtick_spacing=max(int((endSnum-snum)/numxticks), 1)\n",
    "    xlabels=range(snum, endSnum, xtick_spacing)\n",
    "    \n",
    "    aspectRatio=(endSnum-snum)/40\n",
    "\n",
    "    \n",
    "    numplots=40\n",
    "    f, axarr = plt.subplots(numplots, sharex=True, sharey=True, figsize=(30,30))\n",
    "    for i in range(numplots) :\n",
    "        axarr[i].plot(t[snum:endSnum], layers[layer][i,snum:endSnum])\n",
    "        axarr.flat[i].set(xlabel='samples', ylabel=i)\n",
    "        axarr[i].set_yticks([])\n",
    "\n",
    "    \n",
    "    axarr[0].set_title('Activations for layer {}'.format(layer))\n",
    "\n",
    "    # Fine-tune figure; make subplots close to each other and hide x ticks for\n",
    "    # all but bottom plot.\n",
    "    f.subplots_adjust(hspace=0)\n",
    "    plt.setp([a.get_xticklabels() for a in f.axes[:-1]], visible=False)\n",
    "    \n",
    "\n",
    "    \n",
    "layerSlider=IntSlider(min=0, max=3, step=1, value=0, continuous_update=False, description='layer')\n",
    "snumSlider=IntSlider(min=0, max=len(t), step=1, value=0,  continuous_update=False, description='sampleNumber')\n",
    "scaleSlider=FloatSlider(min=0, max=12, step=.1, value=12,  continuous_update=False, description='scale')\n",
    "\n",
    "w = interactive(widgetfunc, layer=layerSlider, snum=snumSlider, scale=scaleSlider)\n",
    "display(w)"
   ]
  },
  {
   "cell_type": "markdown",
   "metadata": {},
   "source": [
    "### Sonify individual activations "
   ]
  },
  {
   "cell_type": "code",
   "execution_count": 15,
   "metadata": {},
   "outputs": [
    {
     "data": {
      "application/vnd.jupyter.widget-view+json": {
       "model_id": "0e37bb99518b406fb16250b37572263d",
       "version_major": 2,
       "version_minor": 0
      },
      "text/plain": [
       "interactive(children=(IntSlider(value=0, continuous_update=False, description='layer', max=3), IntSlider(value…"
      ]
     },
     "metadata": {},
     "output_type": "display_data"
    }
   ],
   "source": [
    "# Sonify activation of individual cells over time for instrument visualized above\n",
    "\n",
    "def widgetfunc(layer,unit,snum,scale):\n",
    "    global t\n",
    "    global layers\n",
    "    \n",
    "    endSnum=int(min(snum+40*math.pow(2,scale) , len(t)-1))\n",
    "\n",
    "    display(Audio(layers[layer][unit,snum:endSnum], rate=sr, autoplay=True))\n",
    "    \n",
    "layerSlider=IntSlider(min=0, max=params['nLayers']-1, step=1, value=0, continuous_update=False, description='layer')\n",
    "unitSlider=IntSlider(min=0, max=40, step=1, value=0, continuous_update=False, description='unit')\n",
    "snumSlider=IntSlider(min=0, max=len(t), step=1, value=0,  continuous_update=False, description='sampleNumber')\n",
    "scaleSlider=FloatSlider(min=0, max=12, step=.1, value=12,  continuous_update=False, description='scale')\n",
    "\n",
    "w = interactive(widgetfunc, layer=layerSlider, unit=unitSlider, snum=snumSlider, scale=scaleSlider)\n",
    "display(w)\n"
   ]
  }
 ],
 "metadata": {
  "kernelspec": {
   "display_name": "snn",
   "language": "python",
   "name": "snn"
  },
  "language_info": {
   "codemirror_mode": {
    "name": "ipython",
    "version": 3
   },
   "file_extension": ".py",
   "mimetype": "text/x-python",
   "name": "python",
   "nbconvert_exporter": "python",
   "pygments_lexer": "ipython3",
   "version": "3.6.6"
  }
 },
 "nbformat": 4,
 "nbformat_minor": 2
}
