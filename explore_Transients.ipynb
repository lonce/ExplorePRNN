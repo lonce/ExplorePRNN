{
 "cells": [
  {
   "cell_type": "markdown",
   "metadata": {},
   "source": [
    "### Trainsients tests with square-wave \"pressure\" conditioning parameter to visualize attack and decay characteristics"
   ]
  },
  {
   "cell_type": "code",
   "execution_count": null,
   "metadata": {},
   "outputs": [],
   "source": [
    "# Set parameter file and model to load\n",
    "from utils.myUtils import mostRecent \n",
    "\n",
    "# chose an existing pickledParamFile and run loadModelForEvaluation\n",
    "pickledParamFile = mostRecent(\"demoModel/*modelParams.pkl\")\n",
    "#pickledParamFile = mostRecent(\"/home/lonce/ZCODE/PYTORCH/RNNControl/model/*modelParams.pkl\")\n",
    "\n",
    "# choose saved model to run (defaults to the last saved if loadmodelfile is undefined or None)\n",
    "# Note: looks in same directory as pickledParamFile\n",
    "loadModelFileName=None\n",
    "#loadModelFileName='2018-11-23_09-37-53_model_epoch1_step90.pth'"
   ]
  },
  {
   "cell_type": "code",
   "execution_count": null,
   "metadata": {},
   "outputs": [],
   "source": [
    "%run loadModelForEvaluation.ipynb\n",
    "\n",
    "if 'sample_rate' not in params :   #older versions didn't save sample_rate\n",
    "    params['sample_rate']=16000"
   ]
  },
  {
   "cell_type": "markdown",
   "metadata": {},
   "source": [
    "### Primer  \n",
    "<a id=\"primer\"></a>"
   ]
  },
  {
   "cell_type": "code",
   "execution_count": null,
   "metadata": {},
   "outputs": [],
   "source": [
    "# Make noisy nuetral Priming signal \n",
    "myp=np.zeros([1,seqLen,len(params['props'])+1])\n",
    "# !! PRIMING DOES MATTER - has to be a certain level of noise\n",
    "myp[0,:,0]=.3*np.random.ranf([seqLen])-.15 #signal\n",
    "myp[0,:,1]= .45+.1*np.random.ranf([seqLen])     #instrument\n",
    "myp[0,:,2]= .5*np.random.ranf([seqLen])    #pressure1\n",
    "#myp[0,:,3]=1-myp[0,:,2]    #pressure2\n",
    "myp[0,:,3]= np.random.ranf([seqLen])    #pitch\n",
    "myprimer=torch.tensor(myp, dtype=torch.float)\n",
    "\n",
    "plt.figure(figsize=(20,3))\n",
    "plt.plot(np.arange(len(myp[0,:,0])), myp[0,:,0])\n",
    "plt.grid()\n",
    "plt.show()"
   ]
  },
  {
   "cell_type": "markdown",
   "metadata": {},
   "source": [
    "### Ramp up and down in both pitch and volume"
   ]
  },
  {
   "cell_type": "code",
   "execution_count": null,
   "metadata": {
    "scrolled": true
   },
   "outputs": [],
   "source": [
    "# Generate!\n",
    "#*************************************\n",
    "from IPython.display import Audio, display\n",
    "\n",
    "genlen= int(1*sr) #not including priming\n",
    "\n",
    "def fsweep(snum) :   #nsnum is sample number not including priming\n",
    "    t=snum/genlen #snum/params['sample_rate']\n",
    "    p=2*(.5-np.abs(.5-t))\n",
    "    v=np.minimum(1.,3.6*(.5-np.abs(.5-t)))\n",
    "    #if (t<0.01) :\n",
    "    #    v=0\n",
    "    #elif t<.3 :\n",
    "    #    v=.5\n",
    "    #elif t<.5 :\n",
    "    #   v=0\n",
    "    #elif t<.7 :\n",
    "    #    v=1\n",
    "    #else :\n",
    "    #    v=0\n",
    "    i=0\n",
    "    # return np.array([i,v,1-v, p])  #pressure2\n",
    "    return np.array([i,v, p]) \n",
    "\n",
    "\n",
    "signal = generate(rnn, genlen, primer=myprimer, paramvect=fsweep)\n",
    "#plot_signal(signal)\n",
    "\n",
    "p = [fsweep(t) for t in range(genlen)]\n",
    "q=[x[1:3] for x in p]\n",
    "\n",
    "print(\"signal length is {}\".format(len(signal[seqLen:])))\n",
    "print(\"p length is {}\".format(len(p[1:2])))\n",
    "\n",
    "plt.figure(figsize=(20,3)) \n",
    "plt.plot(np.arange(len(signal[seqLen:])), signal[seqLen:]) #just print one example from the batch\n",
    "#plt.plot(np.arange(len(signal[256:])), p[:,2]) #just print one example from the batch\n",
    "plt.plot(np.arange(len(q)), q) #just print one example from the batch\n",
    "plt.grid()\n",
    "plt.show()\n",
    "\n",
    "display(Audio(signal[seqLen:], rate=sr, autoplay=False))"
   ]
  },
  {
   "cell_type": "markdown",
   "metadata": {},
   "source": [
    "### Three squarewave pressure params of different stengths"
   ]
  },
  {
   "cell_type": "code",
   "execution_count": null,
   "metadata": {
    "scrolled": true
   },
   "outputs": [],
   "source": [
    "# Generate!\n",
    "#*************************************\n",
    "from IPython.display import Audio, display\n",
    "\n",
    "genlen= int(2*sr) #not including priming\n",
    "\n",
    "def fsweep(snum) :   #nsnum is sample number not including priming\n",
    "    t=snum/genlen #snum/params['sample_rate']\n",
    "    p=2*(.5-np.abs(.5-t))\n",
    "    #v=.5*2*(.5-np.abs(.5-t))\n",
    "    if (t<0.02) :\n",
    "        v=0\n",
    "    elif t<.222 :\n",
    "        v=.5\n",
    "    elif t<.333 :\n",
    "       v=0\n",
    "    elif t<.555 :\n",
    "        v=.1\n",
    "    elif t<.666 :\n",
    "        v=0\n",
    "    elif t<.888 :\n",
    "        v=1\n",
    "    else :\n",
    "        v=0\n",
    "    i=0\n",
    "    #return np.array([i,v,1-v, p])  #pressure2\n",
    "    return np.array([i,v, p]) \n",
    "\n",
    "\n",
    "signal = generate(rnn,genlen, primer=myprimer, paramvect=fsweep)\n",
    "#plot_signal(signal)\n",
    "\n",
    "p = [fsweep(t) for t in range(genlen)]\n",
    "q=[x[1:3] for x in p]\n",
    "\n",
    "print(\"signal length is {}\".format(len(signal[seqLen:])))\n",
    "print(\"p length is {}\".format(len(p[1:2])))\n",
    "\n",
    "plt.figure(figsize=(20,3)) \n",
    "plt.plot(np.arange(len(signal[seqLen:])), signal[seqLen:]) #just print one example from the batch\n",
    "#plt.plot(np.arange(len(signal[256:])), p[:,2]) #just print one example from the batch\n",
    "plt.plot(np.arange(len(q)), q) #just print one example from the batch\n",
    "plt.grid()\n",
    "plt.show()\n",
    "\n",
    "display(Audio(signal, rate=sr, autoplay=False))"
   ]
  },
  {
   "cell_type": "code",
   "execution_count": null,
   "metadata": {},
   "outputs": [],
   "source": [
    "import random\n",
    "fname = random.choice(datafiles)\n",
    "fname"
   ]
  },
  {
   "cell_type": "markdown",
   "metadata": {},
   "source": [
    "### show one of the parameter contours from the original training data"
   ]
  },
  {
   "cell_type": "code",
   "execution_count": null,
   "metadata": {},
   "outputs": [],
   "source": [
    "#bookmark\n",
    "import random\n",
    "\n",
    "p=params['props'][1] # amplitude or pressure1\n",
    "fname = random.choice(datafiles)\n",
    "print(\"param {} for fname {}\".format(p, fname))\n",
    "\n",
    "duration=4\n",
    "\n",
    "from paramManager import paramManager\n",
    "pm=paramManager.paramManager(params['datadir'], params['paramdir'])\n",
    "fooparams=pm.getParams(params['datadir'] + '/' + fname) #the path and extension are optional\n",
    "newtime, newvals = pm.resampleParam(fooparams,p,16000*duration,timestart=0,timeend=duration,verbose=False,overwrite=False)\n",
    "\n",
    "plt.figure(figsize=(20,1)) \n",
    "plt.plot(newtime, newvals) #just print one example from the batch\n",
    "plt.show()\n",
    "for i in range (len(fooparams[p]['times'])) :\n",
    "    print(\"{},        {}\".format( fooparams[p]['times'][i], fooparams[p]['values'][i]))"
   ]
  },
  {
   "cell_type": "markdown",
   "metadata": {},
   "source": [
    "### Show the transition between primer and parameterized signal"
   ]
  },
  {
   "cell_type": "code",
   "execution_count": null,
   "metadata": {
    "scrolled": true
   },
   "outputs": [],
   "source": [
    "from IPython.display import Audio\n",
    "\n",
    "# Generate!\n",
    "#*************************************\n",
    "#paramvect = torch.from_numpy(np.array([0,1,0.5])).type(torch.cuda.FloatTensor)\n",
    "#paramvect = np.array([0,1,0,0]) #pressure2\n",
    "paramvect = np.array([1,1,.5]) \n",
    "signal = generate(rnn,max_length,paramvect=lambda n: paramvect, primer=None)#myprimer)\n",
    "plt.figure(figsize=(20,3))\n",
    "plt.plot(np.arange(len(signal[0:512])), signal[0:512])\n",
    "plt.grid()\n",
    "plt.show()\n",
    "\n",
    "display(Audio(data=signal[0:512],rate=sr))\n"
   ]
  },
  {
   "cell_type": "markdown",
   "metadata": {},
   "source": [
    "### Interactive square wave pressure parameter contour"
   ]
  },
  {
   "cell_type": "code",
   "execution_count": null,
   "metadata": {},
   "outputs": [],
   "source": [
    "from ipywidgets import interact,interactive\n",
    "from ipywidgets import FloatSlider\n",
    "\n",
    "genlen= int(.6*sr) #not including priming\n",
    "\n",
    "gi=0\n",
    "gv=0\n",
    "gp=0\n",
    "\n",
    "\n",
    "def fsweep(snum) :   #nsnum is sample number not including priming\n",
    "    \n",
    "    t=snum/genlen #snum/params['sample_rate']\n",
    "    if (t<0.1) :\n",
    "        v=0\n",
    "    elif t<.8 :\n",
    "        v=gv\n",
    "    else :\n",
    "        v=0\n",
    "    return np.array([gi,v, gp]) \n",
    "\n",
    "\n",
    "def widgetfunc(x,y,z):\n",
    "    paramvect = np.array([x,y,z])\n",
    "    global gi\n",
    "    global gv\n",
    "    global gp\n",
    "    \n",
    "    gi=x\n",
    "    gv=y\n",
    "    gp=z\n",
    "    \n",
    "    signal = generate(rnn,genlen,primer=myprimer,paramvect = fsweep)\n",
    "    plt.figure(figsize=(20,3))\n",
    "    #lot_signal(signal[seqLen:max_length])\n",
    "    plt.plot(np.arange(len(signal[seqLen:])), signal[seqLen:]) \n",
    "    plt.grid()\n",
    "    plt.show()\n",
    "    display(Audio(data=signal[0:],rate=sr))\n",
    "    return signal\n",
    "    \n",
    "xslider=FloatSlider(min=0, max=1, step=.01, value=1.0, continuous_update=False, description='instID')\n",
    "yslider=FloatSlider(min=0, max=1, step=.01, value=1.0, continuous_update=False, description='pressure1')\n",
    "zslider=FloatSlider(min=0, max=1, step=.01, value=0.5,  continuous_update=False, description='midiPitch')\n",
    "\n",
    "w = interactive(widgetfunc, x=xslider, y=yslider, z=zslider)\n",
    "display(w)"
   ]
  }
 ],
 "metadata": {
  "kernelspec": {
   "display_name": "snn",
   "language": "python",
   "name": "snn"
  },
  "language_info": {
   "codemirror_mode": {
    "name": "ipython",
    "version": 3
   },
   "file_extension": ".py",
   "mimetype": "text/x-python",
   "name": "python",
   "nbconvert_exporter": "python",
   "pygments_lexer": "ipython3",
   "version": "3.6.6"
  }
 },
 "nbformat": 4,
 "nbformat_minor": 2
}
